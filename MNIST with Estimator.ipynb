{
 "cells": [
  {
   "cell_type": "markdown",
   "metadata": {},
   "source": [
    "### MNIST with Estimators"
   ]
  },
  {
   "cell_type": "code",
   "execution_count": 10,
   "metadata": {},
   "outputs": [],
   "source": [
    "import numpy as np\n",
    "import tensorflow as tf\n",
    "import argparse\n",
    "import sys\n",
    "import math\n",
    "import gzip\n",
    "import os\n",
    "import shutil\n",
    "from six.moves import urllib\n",
    "from tensorflow.python.platform import gfile"
   ]
  },
  {
   "cell_type": "code",
   "execution_count": 4,
   "metadata": {},
   "outputs": [],
   "source": [
    "#Enable Logging\n",
    "tf.logging.set_verbosity(tf.logging.INFO)\n",
    "# tf.logging.log(logging.INFO, \"Tensorflow Version\"+tf.__version__)"
   ]
  },
  {
   "cell_type": "code",
   "execution_count": 5,
   "metadata": {},
   "outputs": [],
   "source": [
    "def maybe_download_and_extract(filename, work_directory, source_url):\n",
    "    \"\"\"\n",
    "    To download &/ extract the zip files from a given working directory\n",
    "    Args:\n",
    "        filename: File to be extracted\n",
    "        work_directory: Path to the directory\n",
    "        source_url: URL to download the zip files\n",
    "    Returns:\n",
    "        unzipped_filepath: Path to the unzipped files\n",
    "    \"\"\"    \n",
    "    if filename[-3:] == \".gz\":\n",
    "        unzipped_filename = filename[:-3]\n",
    "    else:\n",
    "        unzipped_filename = filename\n",
    "\n",
    "    if not gfile.Exists(work_directory):\n",
    "        gfile.MakeDirs(work_directory)\n",
    "\n",
    "    filepath = os.path.join(work_directory, filename)\n",
    "    unzipped_filepath = os.path.join(work_directory, unzipped_filename)\n",
    "\n",
    "    if not gfile.Exists(unzipped_filepath):\n",
    "        urllib.request.urlretrieve(source_url, filepath)\n",
    "\n",
    "        if not filename == unzipped_filename:\n",
    "            with gzip.open(filepath, 'rb') as f_in:\n",
    "                with open(unzipped_filepath, 'wb') as f_out: # remove .gz\n",
    "                    shutil.copyfileobj(f_in, f_out)\n",
    "\n",
    "        with gfile.GFile(filepath) as f:\n",
    "            size = f.size()\n",
    "        print('Successfully downloaded and unzipped', filename, size, 'bytes.')\n",
    "    return unzipped_filepath"
   ]
  },
  {
   "cell_type": "code",
   "execution_count": 6,
   "metadata": {},
   "outputs": [],
   "source": [
    "def read_labels(tf_bytestring):\n",
    "    \"\"\"\n",
    "    Decodes the labels in string format to Tensor\n",
    "    Args:\n",
    "        tf_string: Labels in string format\n",
    "    Returns:\n",
    "        labels: As tf.float32\n",
    "    \"\"\"\n",
    "    label = tf.decode_raw(tf_bytestring, tf.uint8)\n",
    "    return (tf.reshape(label, []))"
   ]
  },
  {
   "cell_type": "code",
   "execution_count": 7,
   "metadata": {},
   "outputs": [],
   "source": [
    "def read_images(tf_bytestring):\n",
    "    \"\"\"\n",
    "    Decodes the input data in string format to Tensor\n",
    "    Args:\n",
    "        tf_string: Images in string Format\n",
    "    Returns:\n",
    "        image: as tf.float32\n",
    "    \"\"\"\n",
    "    image = tf.decode_raw(tf_bytestring, tf.uint8)\n",
    "    return(tf.cast(image, tf.float32))"
   ]
  },
  {
   "cell_type": "code",
   "execution_count": 8,
   "metadata": {},
   "outputs": [],
   "source": [
    "def load_data_mnist(data_dir):\n",
    "    \"\"\"\n",
    "    May download and extract the data files\n",
    "    Args:\n",
    "        data_dir: Path to where dataset files are stored\n",
    "    Returns:\n",
    "        train_data:\n",
    "        train_labels:\n",
    "        test_data:\n",
    "        test_labels:\n",
    "    \"\"\"\n",
    "    train_images_file = 'train-images-idx3-ubyte.gz'\n",
    "    local_train_images_file = maybe_download_and_extract(train_images_file, data_dir, SOURCE_URL+train_images_file)\n",
    "    train_labels_file = 'train-labels-idx1-ubyte.gz'\n",
    "    local_train_labels_file = maybe_download_and_extract(train_labels_file, data_dir, SOURCE_URL+train_labels_file)\n",
    "    test_images_file = 't10k-images-idx3-ubyte.gz'\n",
    "    local_test_images_file = maybe_download_and_extract(test_images_file, data_dir, SOURCE_URL+test_images_file)\n",
    "    test_labels_file = 't10k-labels-idx1-ubyte.gz'\n",
    "    local_test_labels_file = maybe_download_and_extract(test_labels_file, data_dir, SOURCE_URL+test_labels_file)\n",
    "    return local_train_images_file, local_test_images_file, local_train_labels_file, local_test_labels_file"
   ]
  },
  {
   "cell_type": "code",
   "execution_count": 9,
   "metadata": {},
   "outputs": [],
   "source": [
    "def load_data(imagefile, labelfile):\n",
    "    \"\"\"\n",
    "    Creates interleaved images and labels dataset\n",
    "    Args:\n",
    "        imagefile: To create tensor of image_data\n",
    "        labelfile: To create tensor of label_data\n",
    "    Returns:\n",
    "        dataset: the combined dataset of images and labels\n",
    "    \"\"\"\n",
    "    image_data = tf.FixedLengthRecordDataset(imagefile, 28*28, header_bytes=16, buffer_size=1024*16).map(read_images)\n",
    "    label_data = tf.FixedLengthRecordDataset(labelfile, 8, header_bytes=16, buffer_size=1024*16).map(read_labels)\n",
    "    dataset = tf.data.Dataset.zip((image_data, label_data))\n",
    "    return dataset"
   ]
  },
  {
   "cell_type": "code",
   "execution_count": null,
   "metadata": {},
   "outputs": [],
   "source": [
    "def main(args):\n",
    "    \"\"\"\n",
    "    \"\"\"\n",
    "    parser = argparse.ArgumentParser()"
   ]
  }
 ],
 "metadata": {
  "kernelspec": {
   "display_name": "Python 3",
   "language": "python",
   "name": "python3"
  },
  "language_info": {
   "codemirror_mode": {
    "name": "ipython",
    "version": 3
   },
   "file_extension": ".py",
   "mimetype": "text/x-python",
   "name": "python",
   "nbconvert_exporter": "python",
   "pygments_lexer": "ipython3",
   "version": "3.5.5"
  }
 },
 "nbformat": 4,
 "nbformat_minor": 2
}
