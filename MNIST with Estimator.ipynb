{
 "cells": [
  {
   "cell_type": "markdown",
   "metadata": {},
   "source": [
    "### MNIST with Estimators"
   ]
  },
  {
   "cell_type": "code",
   "execution_count": 10,
   "metadata": {},
   "outputs": [],
   "source": [
    "import numpy as np\n",
    "import tensorflow as tf\n",
    "import argparse\n",
    "import sys\n",
    "import math\n",
    "import gzip\n",
    "import os\n",
    "import shutil\n",
    "from six.moves import urllib\n",
    "from tensorflow.python.platform import gfile"
   ]
  },
  {
   "cell_type": "code",
   "execution_count": 4,
   "metadata": {},
   "outputs": [],
   "source": [
    "#Enable Logging\n",
    "tf.logging.set_verbosity(tf.logging.INFO)\n",
    "# tf.logging.log(logging.INFO, \"Tensorflow Version\"+tf.__version__)"
   ]
  },
  {
   "cell_type": "code",
   "execution_count": 5,
   "metadata": {},
   "outputs": [],
   "source": [
    "def maybe_download_and_extract(filename, work_directory, source_url):\n",
    "    \"\"\"\n",
    "    To download &/ extract the zip files from a given working directory\n",
    "    Args:\n",
    "        filename: File to be extracted\n",
    "        work_directory: Path to the directory\n",
    "        source_url: URL to download the zip files\n",
    "    Returns:\n",
    "        unzipped_filepath: Path to the unzipped files\n",
    "    \"\"\"    \n",
    "    if filename[-3:] == \".gz\":\n",
    "        unzipped_filename = filename[:-3]\n",
    "    else:\n",
    "        unzipped_filename = filename\n",
    "\n",
    "    if not gfile.Exists(work_directory):\n",
    "        gfile.MakeDirs(work_directory)\n",
    "\n",
    "    filepath = os.path.join(work_directory, filename)\n",
    "    unzipped_filepath = os.path.join(work_directory, unzipped_filename)\n",
    "\n",
    "    if not gfile.Exists(unzipped_filepath):\n",
    "        urllib.request.urlretrieve(source_url, filepath)\n",
    "\n",
    "        if not filename == unzipped_filename:\n",
    "            with gzip.open(filepath, 'rb') as f_in:\n",
    "                with open(unzipped_filepath, 'wb') as f_out: # remove .gz\n",
    "                    shutil.copyfileobj(f_in, f_out)\n",
    "\n",
    "        with gfile.GFile(filepath) as f:\n",
    "            size = f.size()\n",
    "        print('Successfully downloaded and unzipped', filename, size, 'bytes.')\n",
    "    return unzipped_filepath"
   ]
  },
  {
   "cell_type": "code",
   "execution_count": 6,
   "metadata": {},
   "outputs": [],
   "source": [
    "def read_labels(tf_bytestring):\n",
    "    \"\"\"\n",
    "    Decodes the labels in string format to Tensor\n",
    "    Args:\n",
    "        tf_string: Labels in string format\n",
    "    Returns:\n",
    "        labels: As tf.float32\n",
    "    \"\"\"\n",
    "    label = tf.decode_raw(tf_bytestring, tf.uint8)\n",
    "    return (tf.reshape(label, []))"
   ]
  },
  {
   "cell_type": "code",
   "execution_count": 7,
   "metadata": {},
   "outputs": [],
   "source": [
    "def read_images(tf_bytestring):\n",
    "    \"\"\"\n",
    "    Decodes the input data in string format to Tensor\n",
    "    Args:\n",
    "        tf_string: Images in string Format\n",
    "    Returns:\n",
    "        image: as tf.float32\n",
    "    \"\"\"\n",
    "    image = tf.decode_raw(tf_bytestring, tf.uint8)\n",
    "    return(tf.cast(image, tf.float32))"
   ]
  },
  {
   "cell_type": "code",
   "execution_count": 8,
   "metadata": {},
   "outputs": [],
   "source": [
    "def load_data_mnist(data_dir):\n",
    "    \"\"\"\n",
    "    May download and extract the data files\n",
    "    Args:\n",
    "        data_dir: Path to where dataset files are stored\n",
    "    Returns:\n",
    "        train_data:\n",
    "        train_labels:\n",
    "        test_data:\n",
    "        test_labels:\n",
    "    \"\"\"\n",
    "    train_images_file = 'train-images-idx3-ubyte.gz'\n",
    "    local_train_images_file = maybe_download_and_extract(train_images_file, data_dir, SOURCE_URL+train_images_file)\n",
    "    train_labels_file = 'train-labels-idx1-ubyte.gz'\n",
    "    local_train_labels_file = maybe_download_and_extract(train_labels_file, data_dir, SOURCE_URL+train_labels_file)\n",
    "    test_images_file = 't10k-images-idx3-ubyte.gz'\n",
    "    local_test_images_file = maybe_download_and_extract(test_images_file, data_dir, SOURCE_URL+test_images_file)\n",
    "    test_labels_file = 't10k-labels-idx1-ubyte.gz'\n",
    "    local_test_labels_file = maybe_download_and_extract(test_labels_file, data_dir, SOURCE_URL+test_labels_file)\n",
    "    return local_train_images_file, local_test_images_file, local_train_labels_file, local_test_labels_file"
   ]
  },
  {
   "cell_type": "code",
   "execution_count": 9,
   "metadata": {},
   "outputs": [],
   "source": [
    "def load_data(imagefile, labelfile):\n",
    "    \"\"\"\n",
    "    Creates interleaved images and labels dataset\n",
    "    Args:\n",
    "        imagefile: To create tensor of image_data\n",
    "        labelfile: To create tensor of label_data\n",
    "    Returns:\n",
    "        dataset: the combined dataset of images and labels\n",
    "    \"\"\"\n",
    "    image_data = tf.FixedLengthRecordDataset(imagefile, 28*28, header_bytes=16, buffer_size=1024*16).map(read_images)\n",
    "    label_data = tf.FixedLengthRecordDataset(labelfile, 8, header_bytes=16, buffer_size=1024*16).map(read_labels)\n",
    "    dataset = tf.data.Dataset.zip((image_data, label_data))\n",
    "    return dataset"
   ]
  },
  {
   "cell_type": "code",
   "execution_count": null,
   "metadata": {},
   "outputs": [],
   "source": [
    "def nodes_for_model(dataset):\n",
    "    \"\"\"\n",
    "    For making the data appropriate to be passed to the model function\n",
    "    Args:\n",
    "        dataset:\n",
    "    Returns:\n",
    "    \n",
    "    \"\"\"\n",
    "    features, labels = dataset.make_one_shot_iterator().get_next()\n",
    "    return {'image': features}, labels"
   ]
  },
  {
   "cell_type": "code",
   "execution_count": null,
   "metadata": {},
   "outputs": [],
   "source": [
    "def train_data_input_fn(train_images_file, train_labels_file):\n",
    "    \"\"\"\n",
    "    Shuffle the data and pass it in the appropriate format\n",
    "    Args:\n",
    "        train_images_file: File with training image data\n",
    "        train_labels_file: File with training label data\n",
    "    Returns:\n",
    "    \n",
    "    \"\"\"\n",
    "    dataset = load_data(train_images_file, train_labels_file)\n",
    "    dataset = dataset.repeat()\n",
    "    dataset = dataset.shuffle(60000)\n",
    "    dataset = dataset.batch(100)\n",
    "    return nodes_for_model(dataset)"
   ]
  },
  {
   "cell_type": "code",
   "execution_count": null,
   "metadata": {},
   "outputs": [],
   "source": [
    "def eval_data_input_fn(test_images_file, test_labels_file):\n",
    "    \"\"\"\n",
    "    Shuffle the data and pass it in the appropriate format\n",
    "    Args:\n",
    "        test_images_file: File with testing image data\n",
    "        test_labels_file: File with testing label data\n",
    "    Returns:\n",
    "    \n",
    "    \"\"\"\n",
    "    dataset = load_data(test_images_file, test_labels_file)\n",
    "    dataset = dataset.batch(10000)\n",
    "    #No need to repeat dataset for evaluation\n",
    "    dataset = dataset.repeat(1)\n",
    "    return nodes_for_model(dataset)"
   ]
  },
  {
   "cell_type": "code",
   "execution_count": null,
   "metadata": {},
   "outputs": [],
   "source": [
    "def conv_model():\n",
    "    input = tf.placeholder(tf.float32, [None, 28, 28, 1], name='input')\n",
    "    labels = tf.placeholder(tf.int32, [None, 10])\n",
    "    \n",
    "    with tf.variable_scope('conv1') as scope:\n",
    "        weights = tf.Variable(tf.truncated_normal([5, 5, 1, 32], stddev=0.1), name=scope.name)\n",
    "        conv = tf.nn.conv2d(input, weights, [1, 1, 1, 1], padding=\"SAME\")\n",
    "        biases = tf.Variable(tf.constant(0.1, shape=[32]))\n",
    "        conv1 = tf.nn.relu(tf.nn.bias_add(conv, biases), name=scope.name)\n",
    "    \n",
    "    pool1 = tf.nn.max_pool(conv1, strides=[1, 2, 2, 1], padding=\"SAME\", ksize=[1, 2, 2, 1], name=\"pool1\")\n",
    "\n",
    "    with tf.variable_scope('conv2') as scope:\n",
    "        weights = tf.Variable(tf.truncated_normal([5, 5, 32, 64], stddev=0.1), name=scope.name)\n",
    "        conv = tf.nn.conv2d(pool1, weights, [1, 1, 1, 1], padding=\"SAME\")\n",
    "        biases = tf.Variable(tf.constant(0.1, shape=[64]))\n",
    "        conv2 = tf.nn.relu(tf.nn.bias_add(conv, biases), name=scope.name)\n",
    "\n",
    "    pool2 = tf.nn.max_pool(conv2, strides=[1, 2, 2, 1], padding=\"SAME\", ksize=[1, 2, 2, 1], name=\"pool2\")\n",
    "\n",
    "    with tf.variable_scope('fc1') as scope:\n",
    "        weights = tf.Variable(tf.truncated_normal([7*7*64, 200], stddev=0.1), name=scope.name)\n",
    "        pool2_flat = tf.reshape(pool2, [-1, 7*7*64])\n",
    "        biases = tf.Variable(tf.constant(0.1, shape=[200]))\n",
    "        fc1 = tf.nn.relu(tf.matmul(pool2_flat, weights)+biases, name=scope.name)\n",
    "\n",
    "    dropout = tf.nn.dropout(fc1, 0.75)\n",
    "\n",
    "    with tf.variable_scope('logits') as scope:\n",
    "        weights = tf.Variable(tf.truncated_normal([200, 10], stddev=0.1), name=scope.name)\n",
    "        biases = tf.Variable(tf.constant(0.1, shape=[10]))\n",
    "        logits = tf.nn.relu(tf.matmul(dropout, weights)+biases, name=scope.name)"
   ]
  },
  {
   "cell_type": "code",
   "execution_count": null,
   "metadata": {},
   "outputs": [],
   "source": [
    "def main(argv):\n",
    "    \"\"\"\n",
    "    \"\"\"\n",
    "    parser = argparse.ArgumentParser()\n",
    "    parser.add_argument(\"--data_dir\", default=\"data\", help=\"where training data will be unzipped\")\n",
    "    parser.add_argument(\"--work_dir\", default=\"checkpoints\", help=\"where training checkpoints will be stored\")\n",
    "    parser.add_argument(\"--hp_lr\", default=\"0.0001\", help=\"learning rate\")\n",
    "    args = parser.parse_args()\n",
    "    arguments = args.__dict__\n",
    "    #Make a dictionary of all arguments\n",
    "    args_dict = {k: v for k,v in arguments.items()}\n",
    "    data_dir = args_dict['data_dir']\n",
    "    working_dir = args_dict['work_dir']\n",
    "    learn_rate = args_dir['hp_lr']\n",
    "    train_images_file, test_images_file, train_labels_file, test_labels_file = load_mnist_data(data_dir)\n",
    "    #...........\n",
    "    def train_input_fn(): \n",
    "        return train_data_input_fn(train_images_file, train_labels_file)\n",
    "    def eval_input_fn():\n",
    "        return eval_data_input_fn(test_images_file, test_labels_file)\n",
    "    #.................\n",
    "    training_config = tf.estimator.RunConfig(model_dir=working_dir, summary_steps=10, save_checkpoints_steps=200)\n",
    "    estimator = tf.estimator.Estimator(model_fn=conv_model, model_dir=work_dir, params=learn_rate, config=training_config)\n",
    "    train_spec = tf.estimator.TrainSpec(train_input_fn, max_steps=1000)\n",
    "#     export_latest = tf.estimator.LatestExporter(\"mnist-model\",serving_input_receiver_fn=serving_input_fn)\n",
    "    eval_spec = tf.estimator.EvalSpec(eval_input_fn, steps=1,  throttle_secs=60)\n",
    "    tf.estimator.train_and_evaluate(estimator, train_spec, eval_spec)\n",
    "    "
   ]
  }
 ],
 "metadata": {
  "kernelspec": {
   "display_name": "Python 3",
   "language": "python",
   "name": "python3"
  },
  "language_info": {
   "codemirror_mode": {
    "name": "ipython",
    "version": 3
   },
   "file_extension": ".py",
   "mimetype": "text/x-python",
   "name": "python",
   "nbconvert_exporter": "python",
   "pygments_lexer": "ipython3",
   "version": "3.5.5"
  }
 },
 "nbformat": 4,
 "nbformat_minor": 2
}
